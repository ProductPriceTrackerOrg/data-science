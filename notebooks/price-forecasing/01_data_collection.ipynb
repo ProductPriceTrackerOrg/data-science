{
 "cells": [
  {
   "cell_type": "markdown",
   "id": "627c9d16",
   "metadata": {},
   "source": [
    "# Data Collection"
   ]
  }
 ],
 "metadata": {
  "language_info": {
   "name": "python"
  }
 },
 "nbformat": 4,
 "nbformat_minor": 5
}
