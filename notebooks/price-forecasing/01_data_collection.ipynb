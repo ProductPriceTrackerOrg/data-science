{
  "cells": [
    {
      "cell_type": "markdown",
      "id": "627c9d16",
      "metadata": {
        "id": "627c9d16"
      },
      "source": [
        "# **Data Collection from Price Before website**"
      ]
    },
    {
      "cell_type": "code",
      "source": [
        "!pip install selenium beautifulsoup4 requests pandas lxml"
      ],
      "metadata": {
        "colab": {
          "base_uri": "https://localhost:8080/"
        },
        "id": "sEsuw8zqdISJ",
        "outputId": "286f11d4-6502-4e8e-daea-ef0a8009185c"
      },
      "id": "sEsuw8zqdISJ",
      "execution_count": 25,
      "outputs": [
        {
          "output_type": "stream",
          "name": "stdout",
          "text": [
            "Requirement already satisfied: selenium in /usr/local/lib/python3.11/dist-packages (4.34.2)\n",
            "Requirement already satisfied: beautifulsoup4 in /usr/local/lib/python3.11/dist-packages (4.13.4)\n",
            "Requirement already satisfied: requests in /usr/local/lib/python3.11/dist-packages (2.32.3)\n",
            "Requirement already satisfied: pandas in /usr/local/lib/python3.11/dist-packages (2.2.2)\n",
            "Requirement already satisfied: lxml in /usr/local/lib/python3.11/dist-packages (5.4.0)\n",
            "Requirement already satisfied: urllib3~=2.5.0 in /usr/local/lib/python3.11/dist-packages (from urllib3[socks]~=2.5.0->selenium) (2.5.0)\n",
            "Requirement already satisfied: trio~=0.30.0 in /usr/local/lib/python3.11/dist-packages (from selenium) (0.30.0)\n",
            "Requirement already satisfied: trio-websocket~=0.12.2 in /usr/local/lib/python3.11/dist-packages (from selenium) (0.12.2)\n",
            "Requirement already satisfied: certifi>=2025.6.15 in /usr/local/lib/python3.11/dist-packages (from selenium) (2025.7.14)\n",
            "Requirement already satisfied: typing_extensions~=4.14.0 in /usr/local/lib/python3.11/dist-packages (from selenium) (4.14.1)\n",
            "Requirement already satisfied: websocket-client~=1.8.0 in /usr/local/lib/python3.11/dist-packages (from selenium) (1.8.0)\n",
            "Requirement already satisfied: soupsieve>1.2 in /usr/local/lib/python3.11/dist-packages (from beautifulsoup4) (2.7)\n",
            "Requirement already satisfied: charset-normalizer<4,>=2 in /usr/local/lib/python3.11/dist-packages (from requests) (3.4.2)\n",
            "Requirement already satisfied: idna<4,>=2.5 in /usr/local/lib/python3.11/dist-packages (from requests) (3.10)\n",
            "Requirement already satisfied: numpy>=1.23.2 in /usr/local/lib/python3.11/dist-packages (from pandas) (2.0.2)\n",
            "Requirement already satisfied: python-dateutil>=2.8.2 in /usr/local/lib/python3.11/dist-packages (from pandas) (2.9.0.post0)\n",
            "Requirement already satisfied: pytz>=2020.1 in /usr/local/lib/python3.11/dist-packages (from pandas) (2025.2)\n",
            "Requirement already satisfied: tzdata>=2022.7 in /usr/local/lib/python3.11/dist-packages (from pandas) (2025.2)\n",
            "Requirement already satisfied: six>=1.5 in /usr/local/lib/python3.11/dist-packages (from python-dateutil>=2.8.2->pandas) (1.17.0)\n",
            "Requirement already satisfied: attrs>=23.2.0 in /usr/local/lib/python3.11/dist-packages (from trio~=0.30.0->selenium) (25.3.0)\n",
            "Requirement already satisfied: sortedcontainers in /usr/local/lib/python3.11/dist-packages (from trio~=0.30.0->selenium) (2.4.0)\n",
            "Requirement already satisfied: outcome in /usr/local/lib/python3.11/dist-packages (from trio~=0.30.0->selenium) (1.3.0.post0)\n",
            "Requirement already satisfied: sniffio>=1.3.0 in /usr/local/lib/python3.11/dist-packages (from trio~=0.30.0->selenium) (1.3.1)\n",
            "Requirement already satisfied: wsproto>=0.14 in /usr/local/lib/python3.11/dist-packages (from trio-websocket~=0.12.2->selenium) (1.2.0)\n",
            "Requirement already satisfied: pysocks!=1.5.7,<2.0,>=1.5.6 in /usr/local/lib/python3.11/dist-packages (from urllib3[socks]~=2.5.0->selenium) (1.7.1)\n",
            "Requirement already satisfied: h11<1,>=0.9.0 in /usr/local/lib/python3.11/dist-packages (from wsproto>=0.14->trio-websocket~=0.12.2->selenium) (0.16.0)\n"
          ]
        }
      ]
    },
    {
      "cell_type": "code",
      "source": [
        "!git clone \"https://github.com/ProductPriceTrackerOrg/data-science.git\""
      ],
      "metadata": {
        "colab": {
          "base_uri": "https://localhost:8080/"
        },
        "id": "Mk3a0peNdSXQ",
        "outputId": "a6db0e07-7180-4f3f-a441-b9ab706cd632"
      },
      "id": "Mk3a0peNdSXQ",
      "execution_count": 26,
      "outputs": [
        {
          "output_type": "stream",
          "name": "stdout",
          "text": [
            "fatal: destination path 'data-science' already exists and is not an empty directory.\n"
          ]
        }
      ]
    },
    {
      "cell_type": "code",
      "source": [
        "import os\n",
        "import sys\n",
        "sys.path.append('/content/data-science')\n",
        "\n",
        "from src import PriceHistoryScraper"
      ],
      "metadata": {
        "id": "fAjuT-Cudang"
      },
      "id": "fAjuT-Cudang",
      "execution_count": 28,
      "outputs": []
    },
    {
      "cell_type": "code",
      "source": [
        "# define a function to scrape the data from website\n",
        "\n",
        "def extract(url, filename):\n",
        "    \"\"\"extract execution function\"\"\"\n",
        "    url = url\n",
        "    output_file = filename\n",
        "\n",
        "    scraper = PriceHistoryScraper(headless=True)\n",
        "\n",
        "    try:\n",
        "        data = scraper.scrape_price_history(url, output_file)\n",
        "\n",
        "        if data:\n",
        "            print(f\"\\n Success! Price history data extracted and saved to {output_file}\")\n",
        "            print(f\" Total data points: {len(data['labels'])}\")\n",
        "            print(f\" Date range: {data['labels'][0] if data['labels'] else 'N/A'} to {data['labels'][-1] if data['labels'] else 'N/A'}\")\n",
        "\n",
        "            # Display first few rows\n",
        "            print(\"\\n Sample data:\")\n",
        "            for i in range(min(5, len(data['labels']))):\n",
        "                print(f\"   {data['labels'][i]}: ₹{data['data'][i]}\")\n",
        "\n",
        "            if len(data['labels']) > 5:\n",
        "                print(f\"   ... and {len(data['labels']) - 5} more rows\")\n",
        "        else:\n",
        "            print(\" Failed to extract price history data\")\n",
        "\n",
        "    except KeyboardInterrupt:\n",
        "        print(\"\\n Scraping interrupted by user\")\n",
        "    except Exception as e:\n",
        "        print(f\" Error: {e}\")\n",
        "    finally:\n",
        "        scraper.close()\n"
      ],
      "metadata": {
        "id": "nQVvVFPxdtFX"
      },
      "id": "nQVvVFPxdtFX",
      "execution_count": 29,
      "outputs": []
    },
    {
      "cell_type": "code",
      "source": [
        "# https://www.pricebefore.com/apple-iphone-14-midnight-128-gb-p735308.html\n",
        "\n",
        "url = \"https://www.pricebefore.com/apple-iphone-14-midnight-128-gb-p735308.html\"\n",
        "filename = \"iphone14.csv\"\n",
        "\n",
        "extract(url, filename)"
      ],
      "metadata": {
        "id": "CMnNjjDCeXmz",
        "outputId": "eddfacfa-40a0-4c2e-9db3-2cbe48ebb302",
        "colab": {
          "base_uri": "https://localhost:8080/"
        }
      },
      "id": "CMnNjjDCeXmz",
      "execution_count": 31,
      "outputs": [
        {
          "output_type": "stream",
          "name": "stdout",
          "text": [
            "\n",
            " Success! Price history data extracted and saved to iphone14.csv\n",
            " Total data points: 1000\n",
            " Date range: 07 Nov 2022 to 02 Aug 2025\n",
            "\n",
            " Sample data:\n",
            "   07 Nov 2022: ₹79900\n",
            "   08 Nov 2022: ₹79900\n",
            "   09 Nov 2022: ₹79900\n",
            "   10 Nov 2022: ₹79900\n",
            "   11 Nov 2022: ₹79900\n",
            "   ... and 995 more rows\n"
          ]
        }
      ]
    },
    {
      "cell_type": "code",
      "source": [
        "# https://www.pricebefore.com/apple-2022-macbook-air-m2-8-gb-256-gb-ssd-p705797.html\n",
        "\n",
        "url = \"https://www.pricebefore.com/apple-2022-macbook-air-m2-8-gb-256-gb-ssd-p705797.html\"\n",
        "filename = \"macbook.csv\"\n",
        "\n",
        "extract(url, filename)"
      ],
      "metadata": {
        "id": "PVcooH2MehZ-",
        "outputId": "87df1a3a-94cc-4ec7-fefd-51ff905b83a8",
        "colab": {
          "base_uri": "https://localhost:8080/"
        }
      },
      "id": "PVcooH2MehZ-",
      "execution_count": 32,
      "outputs": [
        {
          "output_type": "stream",
          "name": "stdout",
          "text": [
            "\n",
            " Success! Price history data extracted and saved to macbook.csv\n",
            " Total data points: 1000\n",
            " Date range: 07 Nov 2022 to 02 Aug 2025\n",
            "\n",
            " Sample data:\n",
            "   07 Nov 2022: ₹119900\n",
            "   08 Nov 2022: ₹119900\n",
            "   09 Nov 2022: ₹119900\n",
            "   10 Nov 2022: ₹119900\n",
            "   11 Nov 2022: ₹112990\n",
            "   ... and 995 more rows\n"
          ]
        }
      ]
    },
    {
      "cell_type": "code",
      "source": [
        "# https://www.pricebefore.com/sandisk-sdcz48-128g-i35-128-pen-drive-black-p470575.html\n",
        "\n",
        "url = \"https://www.pricebefore.com/sandisk-sdcz48-128g-i35-128-pen-drive-black-p470575.html\"\n",
        "filename = \"sandisk.csv\"\n",
        "\n",
        "extract(url, filename)"
      ],
      "metadata": {
        "id": "9MR9D4dve42v",
        "outputId": "1a2502ac-6cb9-4a59-efd8-89ffe51f61ac",
        "colab": {
          "base_uri": "https://localhost:8080/"
        }
      },
      "id": "9MR9D4dve42v",
      "execution_count": 33,
      "outputs": [
        {
          "output_type": "stream",
          "name": "stdout",
          "text": [
            "\n",
            " Success! Price history data extracted and saved to sandisk.csv\n",
            " Total data points: 1000\n",
            " Date range: 07 Nov 2022 to 02 Aug 2025\n",
            "\n",
            " Sample data:\n",
            "   07 Nov 2022: ₹1119\n",
            "   08 Nov 2022: ₹1119\n",
            "   09 Nov 2022: ₹949\n",
            "   10 Nov 2022: ₹949\n",
            "   11 Nov 2022: ₹949\n",
            "   ... and 995 more rows\n"
          ]
        }
      ]
    },
    {
      "cell_type": "code",
      "source": [
        "# https://www.pricebefore.com/amazfit-gtr-2-new-version-smartwatch-grey-strap-free-size-p691401.html\n",
        "\n",
        "url = \"https://www.pricebefore.com/amazfit-gtr-2-new-version-smartwatch-grey-strap-free-size-p691401.html\"\n",
        "filename = \"amazfit_watch.csv\"\n",
        "\n",
        "extract(url, filename)\n"
      ],
      "metadata": {
        "id": "TcR7D_Hwe4o0",
        "outputId": "c22e7d8d-3f92-4d03-fa5e-625e154dac25",
        "colab": {
          "base_uri": "https://localhost:8080/"
        }
      },
      "id": "TcR7D_Hwe4o0",
      "execution_count": 34,
      "outputs": [
        {
          "output_type": "stream",
          "name": "stdout",
          "text": [
            "\n",
            " Success! Price history data extracted and saved to amazfit_watch.csv\n",
            " Total data points: 1000\n",
            " Date range: 07 Nov 2022 to 02 Aug 2025\n",
            "\n",
            " Sample data:\n",
            "   07 Nov 2022: ₹7999\n",
            "   08 Nov 2022: ₹7999\n",
            "   09 Nov 2022: ₹7999\n",
            "   10 Nov 2022: ₹7999\n",
            "   11 Nov 2022: ₹7999\n",
            "   ... and 995 more rows\n"
          ]
        }
      ]
    },
    {
      "cell_type": "code",
      "source": [],
      "metadata": {
        "id": "g1FHUDlYfpTa"
      },
      "id": "g1FHUDlYfpTa",
      "execution_count": null,
      "outputs": []
    }
  ],
  "metadata": {
    "language_info": {
      "name": "python"
    },
    "colab": {
      "provenance": []
    },
    "kernelspec": {
      "name": "python3",
      "display_name": "Python 3"
    }
  },
  "nbformat": 4,
  "nbformat_minor": 5
}